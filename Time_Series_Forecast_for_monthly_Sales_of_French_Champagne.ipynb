{
  "nbformat": 4,
  "nbformat_minor": 0,
  "metadata": {
    "colab": {
      "name": "Time Series Forecast for monthly Sales of French Champagne.ipynb",
      "provenance": []
    },
    "kernelspec": {
      "name": "python3",
      "display_name": "Python 3"
    }
  },
  "cells": [
    {
      "cell_type": "markdown",
      "metadata": {
        "id": "kcsmCP51sIQh"
      },
      "source": [
        "Time series forecasting is a process, and the only way to get good forecasts is to practice this process. In this notebook, you will discover how to forecast the monthly sales of French champagne with Python.\n",
        "\n",
        "In this notebook, we will work through a time series forecasting project from end-to-end, from downloading the dataset and defining the problem to training a final model and making predictions.\n",
        "\n",
        "The steps of this project that we will through are as follows.\n",
        "\n",
        "**1. Environment**\n",
        "\n",
        "**2. Problem Description**\n",
        "\n",
        "**3. Test Harness**\n",
        "\n",
        "**4. Persistence**\n",
        "\n",
        "**5. Data Analysis**\n",
        "\n",
        "**6. Model Validation**"
      ]
    },
    {
      "cell_type": "markdown",
      "metadata": {
        "id": "BlXO4wzmtnFk"
      },
      "source": [
        "**1. Environment**\n",
        "\n",
        "This tutorial assumes an installed and working SciPy environment and dependencies, including:\n",
        "\n",
        "**SciPy**\n",
        "\n",
        "**NumPy**\n",
        "\n",
        "**Matplotlib**\n",
        "\n",
        "**Pandas**\n",
        "\n",
        "**scikit-learn**\n",
        "\n",
        "**statsmodels**\n",
        "\n",
        "This script will help you check your installed versions of these libraries."
      ]
    },
    {
      "cell_type": "code",
      "metadata": {
        "id": "1BFrSLCNr2Uw",
        "outputId": "762d726e-4cf0-4364-bb46-2e57f61c2cfd",
        "colab": {
          "base_uri": "https://localhost:8080/"
        }
      },
      "source": [
        "# scipy\n",
        "import scipy\n",
        "print('scipy: %s' % scipy.__version__)\n",
        "# numpy\n",
        "import numpy\n",
        "print('numpy: %s' % numpy.__version__)\n",
        "# matplotlib\n",
        "import matplotlib\n",
        "print('matplotlib: %s' % matplotlib.__version__)\n",
        "# pandas\n",
        "import pandas\n",
        "print('pandas: %s' % pandas.__version__)\n",
        "# scikit-learn\n",
        "import sklearn\n",
        "print('sklearn: %s' % sklearn.__version__)\n",
        "# statsmodels\n",
        "import statsmodels\n",
        "print('statsmodels: %s' % statsmodels.__version__)"
      ],
      "execution_count": 14,
      "outputs": [
        {
          "output_type": "stream",
          "text": [
            "scipy: 1.4.1\n",
            "numpy: 1.18.5\n",
            "matplotlib: 3.2.2\n",
            "pandas: 1.1.2\n",
            "sklearn: 0.22.2.post1\n",
            "statsmodels: 0.10.2\n"
          ],
          "name": "stdout"
        }
      ]
    },
    {
      "cell_type": "markdown",
      "metadata": {
        "id": "K7tqJnc2uV82"
      },
      "source": [
        "**2. Problem Description**\n",
        "\n",
        "The problem is to predict the number of monthly sales of champagne for the Perrin Freres label (named for a region in France).\n",
        "\n",
        "The dataset provides the number of monthly sales of champagne from January 1964 to September 1972, or just under 10 years of data.\n",
        "\n",
        "Download the dataset as a CSV file and place it in your current working directory with the filename “champagne.csv“."
      ]
    },
    {
      "cell_type": "markdown",
      "metadata": {
        "id": "wQLmoJGxv7Ih"
      },
      "source": [
        "**3. Test Harness**\n",
        "\n",
        "We must develop a test harness to investigate the data and evaluate candidate models.\n",
        "\n",
        "This involves two steps:\n",
        "\n",
        "**1. Defining a Validation Dataset.**\n",
        "\n",
        "**2. Developing a Method for Model Evaluation.**"
      ]
    },
    {
      "cell_type": "markdown",
      "metadata": {
        "id": "IzUeby1EwTxa"
      },
      "source": [
        "**3.1 Validation Dataset**\n",
        "\n",
        "The code below will load the dataset as a Pandas Series and split into two, one for model development (dataset.csv) and the other for validation (validation.csv)."
      ]
    },
    {
      "cell_type": "code",
      "metadata": {
        "id": "iln5CMzgAcwY",
        "outputId": "b7cd224b-37fa-452b-8d0f-561e71d2e04a",
        "colab": {
          "resources": {
            "http://localhost:8080/nbextensions/google.colab/files.js": {
              "data": "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",
              "ok": true,
              "headers": [
                [
                  "content-type",
                  "application/javascript"
                ]
              ],
              "status": 200,
              "status_text": ""
            }
          },
          "base_uri": "https://localhost:8080/",
          "height": 72
        }
      },
      "source": [
        "from google.colab import files \n",
        "  \n",
        "  \n",
        "uploaded = files.upload()"
      ],
      "execution_count": 11,
      "outputs": [
        {
          "output_type": "display_data",
          "data": {
            "text/html": [
              "\n",
              "     <input type=\"file\" id=\"files-d578f2d9-25bc-49d5-9cfc-1432d3e869dc\" name=\"files[]\" multiple disabled\n",
              "        style=\"border:none\" />\n",
              "     <output id=\"result-d578f2d9-25bc-49d5-9cfc-1432d3e869dc\">\n",
              "      Upload widget is only available when the cell has been executed in the\n",
              "      current browser session. Please rerun this cell to enable.\n",
              "      </output>\n",
              "      <script src=\"/nbextensions/google.colab/files.js\"></script> "
            ],
            "text/plain": [
              "<IPython.core.display.HTML object>"
            ]
          },
          "metadata": {
            "tags": []
          }
        },
        {
          "output_type": "stream",
          "text": [
            "Saving champagne.csv to champagne.csv\n"
          ],
          "name": "stdout"
        }
      ]
    },
    {
      "cell_type": "code",
      "metadata": {
        "id": "0q3Dd4jczB9I",
        "outputId": "5f460a16-3e89-4237-d09a-aff2b3ff7139",
        "colab": {
          "base_uri": "https://localhost:8080/"
        }
      },
      "source": [
        "# separate out a validation dataset\n",
        "from pandas import read_csv\n",
        "series = read_csv('champagne.csv', header=0, index_col=0, parse_dates=True, squeeze=True)\n",
        "split_point = len(series) - 12\n",
        "dataset, validation = series[0:split_point], series[split_point:]\n",
        "print('Dataset %d, Validation %d' % (len(dataset), len(validation)))\n",
        "dataset.to_csv('dataset.csv', header=False)\n",
        "validation.to_csv('validation.csv', header=False)"
      ],
      "execution_count": 15,
      "outputs": [
        {
          "output_type": "stream",
          "text": [
            "Dataset 93, Validation 12\n"
          ],
          "name": "stdout"
        }
      ]
    },
    {
      "cell_type": "markdown",
      "metadata": {
        "id": "ppNyA9V3zEZC"
      },
      "source": [
        "**3.2. Model Evaluation**\n",
        "\n",
        "Model evaluation will only be performed on the data in dataset.csv prepared in the previous section.\n",
        "\n",
        "Model evaluation involves two elements:\n",
        "\n",
        "**1. Performance Measure**\n",
        "\n",
        "**2. Test Strategy**\n",
        "\n",
        "**3.2.1 Performance Measure**\n",
        "\n",
        "We will evaluate the performance of predictions using the root mean squared error (RMSE). This will give more weight to predictions that are grossly wrong and will have the same units as the original data.\n",
        "\n",
        "We can calculate the RMSE using the helper function from the scikit-learn library mean_squared_error() that calculates the mean squared error between a list of expected values (the test set) and the list of predictions. We can then take the square root of this value to give us an RMSE score."
      ]
    },
    {
      "cell_type": "code",
      "metadata": {
        "id": "eOLEYMyG5dhc",
        "outputId": "1b0083c4-8fea-44f3-9a9e-04c8e4a93a8b",
        "colab": {
          "base_uri": "https://localhost:8080/",
          "height": 374
        }
      },
      "source": [
        "from sklearn.metrics import mean_squared_error\n",
        "from math import sqrt\n",
        "...\n",
        "test = ...\n",
        "predictions = ...\n",
        "mse = mean_squared_error(test, predictions)\n",
        "rmse = sqrt(mse)\n",
        "print('RMSE: %.3f' % rmse)"
      ],
      "execution_count": 16,
      "outputs": [
        {
          "output_type": "error",
          "ename": "TypeError",
          "evalue": "ignored",
          "traceback": [
            "\u001b[0;31m---------------------------------------------------------------------------\u001b[0m",
            "\u001b[0;31mTypeError\u001b[0m                                 Traceback (most recent call last)",
            "\u001b[0;32m<ipython-input-16-47bfe69c246b>\u001b[0m in \u001b[0;36m<module>\u001b[0;34m()\u001b[0m\n\u001b[1;32m      4\u001b[0m \u001b[0mtest\u001b[0m \u001b[0;34m=\u001b[0m \u001b[0;34m...\u001b[0m\u001b[0;34m\u001b[0m\u001b[0;34m\u001b[0m\u001b[0m\n\u001b[1;32m      5\u001b[0m \u001b[0mpredictions\u001b[0m \u001b[0;34m=\u001b[0m \u001b[0;34m...\u001b[0m\u001b[0;34m\u001b[0m\u001b[0;34m\u001b[0m\u001b[0m\n\u001b[0;32m----> 6\u001b[0;31m \u001b[0mmse\u001b[0m \u001b[0;34m=\u001b[0m \u001b[0mmean_squared_error\u001b[0m\u001b[0;34m(\u001b[0m\u001b[0mtest\u001b[0m\u001b[0;34m,\u001b[0m \u001b[0mpredictions\u001b[0m\u001b[0;34m)\u001b[0m\u001b[0;34m\u001b[0m\u001b[0;34m\u001b[0m\u001b[0m\n\u001b[0m\u001b[1;32m      7\u001b[0m \u001b[0mrmse\u001b[0m \u001b[0;34m=\u001b[0m \u001b[0msqrt\u001b[0m\u001b[0;34m(\u001b[0m\u001b[0mmse\u001b[0m\u001b[0;34m)\u001b[0m\u001b[0;34m\u001b[0m\u001b[0;34m\u001b[0m\u001b[0m\n\u001b[1;32m      8\u001b[0m \u001b[0mprint\u001b[0m\u001b[0;34m(\u001b[0m\u001b[0;34m'RMSE: %.3f'\u001b[0m \u001b[0;34m%\u001b[0m \u001b[0mrmse\u001b[0m\u001b[0;34m)\u001b[0m\u001b[0;34m\u001b[0m\u001b[0;34m\u001b[0m\u001b[0m\n",
            "\u001b[0;32m/usr/local/lib/python3.6/dist-packages/sklearn/metrics/_regression.py\u001b[0m in \u001b[0;36mmean_squared_error\u001b[0;34m(y_true, y_pred, sample_weight, multioutput, squared)\u001b[0m\n\u001b[1;32m    250\u001b[0m     \"\"\"\n\u001b[1;32m    251\u001b[0m     y_type, y_true, y_pred, multioutput = _check_reg_targets(\n\u001b[0;32m--> 252\u001b[0;31m         y_true, y_pred, multioutput)\n\u001b[0m\u001b[1;32m    253\u001b[0m     \u001b[0mcheck_consistent_length\u001b[0m\u001b[0;34m(\u001b[0m\u001b[0my_true\u001b[0m\u001b[0;34m,\u001b[0m \u001b[0my_pred\u001b[0m\u001b[0;34m,\u001b[0m \u001b[0msample_weight\u001b[0m\u001b[0;34m)\u001b[0m\u001b[0;34m\u001b[0m\u001b[0;34m\u001b[0m\u001b[0m\n\u001b[1;32m    254\u001b[0m     output_errors = np.average((y_true - y_pred) ** 2, axis=0,\n",
            "\u001b[0;32m/usr/local/lib/python3.6/dist-packages/sklearn/metrics/_regression.py\u001b[0m in \u001b[0;36m_check_reg_targets\u001b[0;34m(y_true, y_pred, multioutput, dtype)\u001b[0m\n\u001b[1;32m     82\u001b[0m \u001b[0;34m\u001b[0m\u001b[0m\n\u001b[1;32m     83\u001b[0m     \"\"\"\n\u001b[0;32m---> 84\u001b[0;31m     \u001b[0mcheck_consistent_length\u001b[0m\u001b[0;34m(\u001b[0m\u001b[0my_true\u001b[0m\u001b[0;34m,\u001b[0m \u001b[0my_pred\u001b[0m\u001b[0;34m)\u001b[0m\u001b[0;34m\u001b[0m\u001b[0;34m\u001b[0m\u001b[0m\n\u001b[0m\u001b[1;32m     85\u001b[0m     \u001b[0my_true\u001b[0m \u001b[0;34m=\u001b[0m \u001b[0mcheck_array\u001b[0m\u001b[0;34m(\u001b[0m\u001b[0my_true\u001b[0m\u001b[0;34m,\u001b[0m \u001b[0mensure_2d\u001b[0m\u001b[0;34m=\u001b[0m\u001b[0;32mFalse\u001b[0m\u001b[0;34m,\u001b[0m \u001b[0mdtype\u001b[0m\u001b[0;34m=\u001b[0m\u001b[0mdtype\u001b[0m\u001b[0;34m)\u001b[0m\u001b[0;34m\u001b[0m\u001b[0;34m\u001b[0m\u001b[0m\n\u001b[1;32m     86\u001b[0m     \u001b[0my_pred\u001b[0m \u001b[0;34m=\u001b[0m \u001b[0mcheck_array\u001b[0m\u001b[0;34m(\u001b[0m\u001b[0my_pred\u001b[0m\u001b[0;34m,\u001b[0m \u001b[0mensure_2d\u001b[0m\u001b[0;34m=\u001b[0m\u001b[0;32mFalse\u001b[0m\u001b[0;34m,\u001b[0m \u001b[0mdtype\u001b[0m\u001b[0;34m=\u001b[0m\u001b[0mdtype\u001b[0m\u001b[0;34m)\u001b[0m\u001b[0;34m\u001b[0m\u001b[0;34m\u001b[0m\u001b[0m\n",
            "\u001b[0;32m/usr/local/lib/python3.6/dist-packages/sklearn/utils/validation.py\u001b[0m in \u001b[0;36mcheck_consistent_length\u001b[0;34m(*arrays)\u001b[0m\n\u001b[1;32m    206\u001b[0m     \"\"\"\n\u001b[1;32m    207\u001b[0m \u001b[0;34m\u001b[0m\u001b[0m\n\u001b[0;32m--> 208\u001b[0;31m     \u001b[0mlengths\u001b[0m \u001b[0;34m=\u001b[0m \u001b[0;34m[\u001b[0m\u001b[0m_num_samples\u001b[0m\u001b[0;34m(\u001b[0m\u001b[0mX\u001b[0m\u001b[0;34m)\u001b[0m \u001b[0;32mfor\u001b[0m \u001b[0mX\u001b[0m \u001b[0;32min\u001b[0m \u001b[0marrays\u001b[0m \u001b[0;32mif\u001b[0m \u001b[0mX\u001b[0m \u001b[0;32mis\u001b[0m \u001b[0;32mnot\u001b[0m \u001b[0;32mNone\u001b[0m\u001b[0;34m]\u001b[0m\u001b[0;34m\u001b[0m\u001b[0;34m\u001b[0m\u001b[0m\n\u001b[0m\u001b[1;32m    209\u001b[0m     \u001b[0muniques\u001b[0m \u001b[0;34m=\u001b[0m \u001b[0mnp\u001b[0m\u001b[0;34m.\u001b[0m\u001b[0munique\u001b[0m\u001b[0;34m(\u001b[0m\u001b[0mlengths\u001b[0m\u001b[0;34m)\u001b[0m\u001b[0;34m\u001b[0m\u001b[0;34m\u001b[0m\u001b[0m\n\u001b[1;32m    210\u001b[0m     \u001b[0;32mif\u001b[0m \u001b[0mlen\u001b[0m\u001b[0;34m(\u001b[0m\u001b[0muniques\u001b[0m\u001b[0;34m)\u001b[0m \u001b[0;34m>\u001b[0m \u001b[0;36m1\u001b[0m\u001b[0;34m:\u001b[0m\u001b[0;34m\u001b[0m\u001b[0;34m\u001b[0m\u001b[0m\n",
            "\u001b[0;32m/usr/local/lib/python3.6/dist-packages/sklearn/utils/validation.py\u001b[0m in \u001b[0;36m<listcomp>\u001b[0;34m(.0)\u001b[0m\n\u001b[1;32m    206\u001b[0m     \"\"\"\n\u001b[1;32m    207\u001b[0m \u001b[0;34m\u001b[0m\u001b[0m\n\u001b[0;32m--> 208\u001b[0;31m     \u001b[0mlengths\u001b[0m \u001b[0;34m=\u001b[0m \u001b[0;34m[\u001b[0m\u001b[0m_num_samples\u001b[0m\u001b[0;34m(\u001b[0m\u001b[0mX\u001b[0m\u001b[0;34m)\u001b[0m \u001b[0;32mfor\u001b[0m \u001b[0mX\u001b[0m \u001b[0;32min\u001b[0m \u001b[0marrays\u001b[0m \u001b[0;32mif\u001b[0m \u001b[0mX\u001b[0m \u001b[0;32mis\u001b[0m \u001b[0;32mnot\u001b[0m \u001b[0;32mNone\u001b[0m\u001b[0;34m]\u001b[0m\u001b[0;34m\u001b[0m\u001b[0;34m\u001b[0m\u001b[0m\n\u001b[0m\u001b[1;32m    209\u001b[0m     \u001b[0muniques\u001b[0m \u001b[0;34m=\u001b[0m \u001b[0mnp\u001b[0m\u001b[0;34m.\u001b[0m\u001b[0munique\u001b[0m\u001b[0;34m(\u001b[0m\u001b[0mlengths\u001b[0m\u001b[0;34m)\u001b[0m\u001b[0;34m\u001b[0m\u001b[0;34m\u001b[0m\u001b[0m\n\u001b[1;32m    210\u001b[0m     \u001b[0;32mif\u001b[0m \u001b[0mlen\u001b[0m\u001b[0;34m(\u001b[0m\u001b[0muniques\u001b[0m\u001b[0;34m)\u001b[0m \u001b[0;34m>\u001b[0m \u001b[0;36m1\u001b[0m\u001b[0;34m:\u001b[0m\u001b[0;34m\u001b[0m\u001b[0;34m\u001b[0m\u001b[0m\n",
            "\u001b[0;32m/usr/local/lib/python3.6/dist-packages/sklearn/utils/validation.py\u001b[0m in \u001b[0;36m_num_samples\u001b[0;34m(x)\u001b[0m\n\u001b[1;32m    145\u001b[0m             \u001b[0mx\u001b[0m \u001b[0;34m=\u001b[0m \u001b[0mnp\u001b[0m\u001b[0;34m.\u001b[0m\u001b[0masarray\u001b[0m\u001b[0;34m(\u001b[0m\u001b[0mx\u001b[0m\u001b[0;34m)\u001b[0m\u001b[0;34m\u001b[0m\u001b[0;34m\u001b[0m\u001b[0m\n\u001b[1;32m    146\u001b[0m         \u001b[0;32melse\u001b[0m\u001b[0;34m:\u001b[0m\u001b[0;34m\u001b[0m\u001b[0;34m\u001b[0m\u001b[0m\n\u001b[0;32m--> 147\u001b[0;31m             \u001b[0;32mraise\u001b[0m \u001b[0mTypeError\u001b[0m\u001b[0;34m(\u001b[0m\u001b[0mmessage\u001b[0m\u001b[0;34m)\u001b[0m\u001b[0;34m\u001b[0m\u001b[0;34m\u001b[0m\u001b[0m\n\u001b[0m\u001b[1;32m    148\u001b[0m \u001b[0;34m\u001b[0m\u001b[0m\n\u001b[1;32m    149\u001b[0m     \u001b[0;32mif\u001b[0m \u001b[0mhasattr\u001b[0m\u001b[0;34m(\u001b[0m\u001b[0mx\u001b[0m\u001b[0;34m,\u001b[0m \u001b[0;34m'shape'\u001b[0m\u001b[0;34m)\u001b[0m \u001b[0;32mand\u001b[0m \u001b[0mx\u001b[0m\u001b[0;34m.\u001b[0m\u001b[0mshape\u001b[0m \u001b[0;32mis\u001b[0m \u001b[0;32mnot\u001b[0m \u001b[0;32mNone\u001b[0m\u001b[0;34m:\u001b[0m\u001b[0;34m\u001b[0m\u001b[0;34m\u001b[0m\u001b[0m\n",
            "\u001b[0;31mTypeError\u001b[0m: Expected sequence or array-like, got <class 'ellipsis'>"
          ]
        }
      ]
    },
    {
      "cell_type": "markdown",
      "metadata": {
        "id": "vtMGGSc55e9m"
      },
      "source": [
        "**3.2.2 Test Strategy**\n",
        "\n",
        "Firstly, we can split the dataset into train and test sets directly. We’re careful to always convert a loaded dataset to float32 in case the loaded data still has some String or Integer data types."
      ]
    },
    {
      "cell_type": "code",
      "metadata": {
        "id": "jOEXonQs73Xx"
      },
      "source": [
        "# prepare data\n",
        "X = series.values\n",
        "X = X.astype('float32')\n",
        "train_size = int(len(X) * 0.50)\n",
        "train, test = X[0:train_size], X[train_size:]"
      ],
      "execution_count": null,
      "outputs": []
    },
    {
      "cell_type": "markdown",
      "metadata": {
        "id": "Mcga_g6K8n7H"
      },
      "source": [
        "Next, we can iterate over the time steps in the test dataset. The train dataset is stored in a Python list as we need to easily append a new observation each iteration and NumPy array concatenation feels like overkill. \n",
        "\n",
        "The prediction made by the model is called yhat for convention, as the outcome or observation is referred to as y and yhat (a ‘y‘ with a mark above) is the mathematical notation for the prediction of the y variable.\n",
        "\n",
        "The prediction and observation are printed each observation for a sanity check prediction in case there are issues with the model.\n",
        "\n"
      ]
    },
    {
      "cell_type": "code",
      "metadata": {
        "id": "hVmUJudF9S2B"
      },
      "source": [
        "# walk-forward validation\n",
        "history = [x for x in train]\n",
        "predictions = list()\n",
        "for i in range(len(test)):\n",
        "\t# predict\n",
        "\tyhat = ...\n",
        "\tpredictions.append(yhat)\n",
        "\t# observation\n",
        "\tobs = test[i]\n",
        "\thistory.append(obs)\n",
        "\tprint('>Predicted=%.3f, Expected=%3.f' % (yhat, obs))"
      ],
      "execution_count": null,
      "outputs": []
    },
    {
      "cell_type": "markdown",
      "metadata": {
        "id": "yx2d13Gi9pfW"
      },
      "source": [
        "**4. Persistence**\n",
        "\n",
        "Running the test harness prints the prediction and observation for each iteration of the test dataset. In this case, we can see that the persistence model achieved an RMSE of 3186.501. This means that on average, the model was wrong by about 3,186 million sales for each prediction made."
      ]
    },
    {
      "cell_type": "markdown",
      "metadata": {
        "id": "Up9jrI0R_60c"
      },
      "source": [
        ""
      ]
    },
    {
      "cell_type": "code",
      "metadata": {
        "id": "tV4IKSuR-ZYR",
        "outputId": "bfdf8f93-538a-435f-9913-ec4287307139",
        "colab": {
          "base_uri": "https://localhost:8080/"
        }
      },
      "source": [
        "from pandas import read_csv\n",
        "from sklearn.metrics import mean_squared_error\n",
        "from math import sqrt\n",
        "# load data\n",
        "series = read_csv('dataset.csv', header=None, index_col=0, parse_dates=True, squeeze=True)\n",
        "# prepare data\n",
        "X = series.values\n",
        "X = X.astype('float32')\n",
        "train_size = int(len(X) * 0.50)\n",
        "train, test = X[0:train_size], X[train_size:]\n",
        "# walk-forward validation\n",
        "history = [x for x in train]\n",
        "predictions = list()\n",
        "for i in range(len(test)):\n",
        "\t# predict\n",
        "\tyhat = history[-1]\n",
        "\tpredictions.append(yhat)\n",
        "\t# observation\n",
        "\tobs = test[i]\n",
        "\thistory.append(obs)\n",
        "\tprint('>Predicted=%.3f, Expected=%3.f' % (yhat, obs))\n",
        "# report performance\n",
        "mse = mean_squared_error(test, predictions)\n",
        "rmse = sqrt(mse)\n",
        "print('RMSE: %.3f' % rmse)"
      ],
      "execution_count": 17,
      "outputs": [
        {
          "output_type": "stream",
          "text": [
            ">Predicted=5428.000, Expected=8314\n",
            ">Predicted=8314.000, Expected=10651\n",
            ">Predicted=10651.000, Expected=3633\n",
            ">Predicted=3633.000, Expected=4292\n",
            ">Predicted=4292.000, Expected=4154\n",
            ">Predicted=4154.000, Expected=4121\n",
            ">Predicted=4121.000, Expected=4647\n",
            ">Predicted=4647.000, Expected=4753\n",
            ">Predicted=4753.000, Expected=3965\n",
            ">Predicted=3965.000, Expected=1723\n",
            ">Predicted=1723.000, Expected=5048\n",
            ">Predicted=5048.000, Expected=6922\n",
            ">Predicted=6922.000, Expected=9858\n",
            ">Predicted=9858.000, Expected=11331\n",
            ">Predicted=11331.000, Expected=4016\n",
            ">Predicted=4016.000, Expected=3957\n",
            ">Predicted=3957.000, Expected=4510\n",
            ">Predicted=4510.000, Expected=4276\n",
            ">Predicted=4276.000, Expected=4968\n",
            ">Predicted=4968.000, Expected=4677\n",
            ">Predicted=4677.000, Expected=3523\n",
            ">Predicted=3523.000, Expected=1821\n",
            ">Predicted=1821.000, Expected=5222\n",
            ">Predicted=5222.000, Expected=6872\n",
            ">Predicted=6872.000, Expected=10803\n",
            ">Predicted=10803.000, Expected=13916\n",
            ">Predicted=13916.000, Expected=2639\n",
            ">Predicted=2639.000, Expected=2899\n",
            ">Predicted=2899.000, Expected=3370\n",
            ">Predicted=3370.000, Expected=3740\n",
            ">Predicted=3740.000, Expected=2927\n",
            ">Predicted=2927.000, Expected=3986\n",
            ">Predicted=3986.000, Expected=4217\n",
            ">Predicted=4217.000, Expected=1738\n",
            ">Predicted=1738.000, Expected=5221\n",
            ">Predicted=5221.000, Expected=6424\n",
            ">Predicted=6424.000, Expected=9842\n",
            ">Predicted=9842.000, Expected=13076\n",
            ">Predicted=13076.000, Expected=3934\n",
            ">Predicted=3934.000, Expected=3162\n",
            ">Predicted=3162.000, Expected=4286\n",
            ">Predicted=4286.000, Expected=4676\n",
            ">Predicted=4676.000, Expected=5010\n",
            ">Predicted=5010.000, Expected=4874\n",
            ">Predicted=4874.000, Expected=4633\n",
            ">Predicted=4633.000, Expected=1659\n",
            ">Predicted=1659.000, Expected=5951\n",
            "RMSE: 3186.501\n"
          ],
          "name": "stdout"
        }
      ]
    },
    {
      "cell_type": "markdown",
      "metadata": {
        "id": "p1kbAUY0Zplh"
      },
      "source": [
        "**5. Data Analysis**\n",
        "\n",
        "We can use summary statistics and plots of the data to quickly learn more about the structure of the prediction problem. \n",
        "\n",
        "In this section, we will look at the data from five perspectives:\n",
        "\n",
        "**1. Summary Statistics**\n",
        "\n",
        "**2. Line Plot**\n",
        "\n",
        "**3. Seasonal Line Plots**\n",
        "\n",
        "**4. Density Plots**\n",
        "\n",
        "**5. Box and Whisker Plot**"
      ]
    },
    {
      "cell_type": "markdown",
      "metadata": {
        "id": "RpWbsPytbH4h"
      },
      "source": [
        "**1. Summary Statistics**\n",
        "\n",
        "Summary statistics provide a quick look at the limits of observed values. It can help to get a quick idea of what we are working with.\n",
        "\n",
        "The example below calculates and prints summary statistics for the time series. Running the example provides a number of summary statistics to review.\n",
        "\n",
        "\n"
      ]
    },
    {
      "cell_type": "code",
      "metadata": {
        "id": "5VwwSGGBbXWt",
        "outputId": "94eb1b16-28c7-40bc-8b97-8a4bf63ac39c",
        "colab": {
          "base_uri": "https://localhost:8080/"
        }
      },
      "source": [
        "from pandas import read_csv\n",
        "series = read_csv('dataset.csv', header=None, index_col=0, parse_dates=True, squeeze=True)\n",
        "print(series.describe())"
      ],
      "execution_count": 18,
      "outputs": [
        {
          "output_type": "stream",
          "text": [
            "count       93.000000\n",
            "mean      4641.118280\n",
            "std       2486.403841\n",
            "min       1573.000000\n",
            "25%       3036.000000\n",
            "50%       4016.000000\n",
            "75%       5048.000000\n",
            "max      13916.000000\n",
            "Name: 1, dtype: float64\n"
          ],
          "name": "stdout"
        }
      ]
    },
    {
      "cell_type": "markdown",
      "metadata": {
        "id": "iYNBAFHWbl-1"
      },
      "source": [
        "**2. Line Plot**\n",
        "\n",
        "A line plot of a time series can provide a lot of insight into the problem. The example below creates and shows a line plot of the dataset."
      ]
    },
    {
      "cell_type": "code",
      "metadata": {
        "id": "HfPwlrbQcB2C",
        "outputId": "00f582e7-fd02-4480-f397-a290eb74cee8",
        "colab": {
          "base_uri": "https://localhost:8080/",
          "height": 279
        }
      },
      "source": [
        "from pandas import read_csv\n",
        "from matplotlib import pyplot\n",
        "series = read_csv('dataset.csv', header=None, index_col=0, parse_dates=True, squeeze=True)\n",
        "series.plot()\n",
        "pyplot.show()"
      ],
      "execution_count": 19,
      "outputs": [
        {
          "output_type": "display_data",
          "data": {
            "image/png": "[encoded data removed]",
            "text/plain": [
              "<Figure size 432x288 with 1 Axes>"
            ]
          },
          "metadata": {
            "tags": [],
            "needs_background": "light"
          }
        }
      ]
    },
    {
      "cell_type": "markdown",
      "metadata": {
        "id": "9oqwtQ9ycNpU"
      },
      "source": [
        "**3. Seasonal Line Plots**\n",
        "\n",
        "We can confirm the assumption that the seasonality is a yearly cycle by eyeballing line plots of the dataset by year. Running the example creates the stack of 7 line plots."
      ]
    },
    {
      "cell_type": "code",
      "metadata": {
        "id": "H0RBwn53cqtF",
        "outputId": "3cb344cc-25c4-453b-b82e-5ffae39961ee",
        "colab": {
          "base_uri": "https://localhost:8080/",
          "height": 269
        }
      },
      "source": [
        "from pandas import read_csv\n",
        "from pandas import DataFrame\n",
        "from pandas import Grouper\n",
        "from matplotlib import pyplot\n",
        "series = read_csv('dataset.csv', header=None, index_col=0, parse_dates=True, squeeze=True)\n",
        "groups = series['1964':'1970'].groupby(Grouper(freq='A'))\n",
        "years = DataFrame()\n",
        "pyplot.figure()\n",
        "i = 1\n",
        "n_groups = len(groups)\n",
        "for name, group in groups:\n",
        "\tpyplot.subplot((n_groups*100) + 10 + i)\n",
        "\ti += 1\n",
        "\tpyplot.plot(group)\n",
        "pyplot.show()"
      ],
      "execution_count": 20,
      "outputs": [
        {
          "output_type": "display_data",
          "data": {
            "image/png": "[encoded data removed]",
            "text/plain": [
              "<Figure size 432x288 with 7 Axes>"
            ]
          },
          "metadata": {
            "tags": [],
            "needs_background": "light"
          }
        }
      ]
    },
    {
      "cell_type": "markdown",
      "metadata": {
        "id": "ugs1CDNbc0lE"
      },
      "source": [
        "**4. Density Plot**\n",
        "\n",
        "Reviewing plots of the density of observations can provide further insight into the structure of the data. The example below creates a histogram and density plot of the observations without any temporal structure."
      ]
    },
    {
      "cell_type": "code",
      "metadata": {
        "id": "_vof4fAGuoX-",
        "outputId": "b562a323-8301-46e3-f98d-ef851eb18be4",
        "colab": {
          "base_uri": "https://localhost:8080/",
          "height": 265
        }
      },
      "source": [
        "from pandas import read_csv\n",
        "from matplotlib import pyplot\n",
        "series = read_csv('dataset.csv', header=None, index_col=0, parse_dates=True, squeeze=True)\n",
        "pyplot.figure(1)\n",
        "pyplot.subplot(211)\n",
        "series.hist()\n",
        "pyplot.subplot(212)\n",
        "series.plot(kind='kde')\n",
        "pyplot.show()"
      ],
      "execution_count": 21,
      "outputs": [
        {
          "output_type": "display_data",
          "data": {
            "image/png": "[encoded data removed]",
            "text/plain": [
              "<Figure size 432x288 with 2 Axes>"
            ]
          },
          "metadata": {
            "tags": [],
            "needs_background": "light"
          }
        }
      ]
    },
    {
      "cell_type": "markdown",
      "metadata": {
        "id": "8V4oZU5-u4at"
      },
      "source": [
        "**5. Box and Whisker Plots**\n",
        "\n",
        "The example below groups the observations by year and creates one box and whisker plot for each year of observations. The last year (1971) only contains 9 months and may not be a useful comparison with the 12 months of observations for other years. Therefore, only data between 1964 and 1970 was plotted.\n",
        "\n"
      ]
    },
    {
      "cell_type": "code",
      "metadata": {
        "id": "C4S3vNtTv8Qt",
        "outputId": "bc1da483-3995-4115-c430-049ec9ea0b57",
        "colab": {
          "base_uri": "https://localhost:8080/",
          "height": 265
        }
      },
      "source": [
        "from pandas import read_csv\n",
        "from pandas import DataFrame\n",
        "from pandas import Grouper\n",
        "from matplotlib import pyplot\n",
        "series = read_csv('dataset.csv', header=None, index_col=0, parse_dates=True, squeeze=True)\n",
        "groups = series['1964':'1970'].groupby(Grouper(freq='A'))\n",
        "years = DataFrame()\n",
        "for name, group in groups:\n",
        "\tyears[name.year] = group.values\n",
        "years.boxplot()\n",
        "pyplot.show()"
      ],
      "execution_count": 22,
      "outputs": [
        {
          "output_type": "display_data",
          "data": {
            "image/png": "[encoded data removed]",
            "text/plain": [
              "<Figure size 432x288 with 1 Axes>"
            ]
          },
          "metadata": {
            "tags": [],
            "needs_background": "light"
          }
        }
      ]
    },
    {
      "cell_type": "markdown",
      "metadata": {
        "id": "40SVTRs44oDz"
      },
      "source": [
        "**6. Model Validation**\n",
        "\n",
        "Validation is an optional part of the process, but one that provides a ‘last check’ to ensure we have not fooled or misled ourselves.\n",
        "\n",
        "This section includes the following steps:\n",
        "\n",
        "**Finalize Model**: Train and save the final model.\n",
        "\n",
        "**Make Prediction**: Load the finalized model and make a prediction.\n",
        "\n",
        "**Validate Model**: Load and validate the final model."
      ]
    },
    {
      "cell_type": "markdown",
      "metadata": {
        "id": "3CutRlCX5MhD"
      },
      "source": [
        "**6.1 Finalize Model**\n",
        "\n",
        "The example below saves the fit model to file in the correct state so that it can be loaded successfully later."
      ]
    },
    {
      "cell_type": "code",
      "metadata": {
        "id": "Gi6EoGnC5cgh",
        "outputId": "6f2f4c32-90f7-4642-d701-80acca06cd41",
        "colab": {
          "base_uri": "https://localhost:8080/"
        }
      },
      "source": [
        "from pandas import read_csv\n",
        "from statsmodels.tsa.arima_model import ARIMA\n",
        "from scipy.stats import boxcox\n",
        "import numpy\n",
        "\n",
        "# monkey patch around bug in ARIMA class\n",
        "def __getnewargs__(self):\n",
        "\treturn ((self.endog),(self.k_lags, self.k_diff, self.k_ma))\n",
        "\n",
        "ARIMA.__getnewargs__ = __getnewargs__\n",
        "\n",
        "# create a differenced series\n",
        "def difference(dataset, interval=1):\n",
        "\tdiff = list()\n",
        "\tfor i in range(interval, len(dataset)):\n",
        "\t\tvalue = dataset[i] - dataset[i - interval]\n",
        "\t\tdiff.append(value)\n",
        "\treturn diff\n",
        "\n",
        "# load data\n",
        "series = read_csv('dataset.csv', header=None, index_col=0, parse_dates=True, squeeze=True)\n",
        "# prepare data\n",
        "X = series.values\n",
        "X = X.astype('float32')\n",
        "# difference data\n",
        "months_in_year = 12\n",
        "diff = difference(X, months_in_year)\n",
        "# fit model\n",
        "model = ARIMA(diff, order=(0,0,1))\n",
        "model_fit = model.fit(trend='nc', disp=0)\n",
        "# bias constant, could be calculated from in-sample mean residual\n",
        "bias = 165.904728\n",
        "# save model\n",
        "model_fit.save('model.pkl')\n",
        "numpy.save('model_bias.npy', [bias])"
      ],
      "execution_count": 23,
      "outputs": [
        {
          "output_type": "stream",
          "text": [
            "/usr/local/lib/python3.6/dist-packages/statsmodels/tools/_testing.py:19: FutureWarning: pandas.util.testing is deprecated. Use the functions in the public API at pandas.testing instead.\n",
            "  import pandas.util.testing as tm\n"
          ],
          "name": "stderr"
        }
      ]
    },
    {
      "cell_type": "markdown",
      "metadata": {
        "id": "cZ1SB6H65oN1"
      },
      "source": [
        "**6.2 Make Prediction**\n",
        "\n",
        "This is relatively straightforward and involves restoring the saved model and the bias and calling the forecast() method. To invert the seasonal differencing, the historical data must also be loaded.\n",
        "\n",
        "The example below loads the model, makes a prediction for the next time step, and prints the prediction."
      ]
    },
    {
      "cell_type": "code",
      "metadata": {
        "id": "kV9i6JEs6zea",
        "outputId": "3ccb9f40-4806-4868-cd5e-c14631d90185",
        "colab": {
          "base_uri": "https://localhost:8080/"
        }
      },
      "source": [
        "from pandas import read_csv\n",
        "from statsmodels.tsa.arima_model import ARIMAResults\n",
        "import numpy\n",
        "\n",
        "# invert differenced value\n",
        "def inverse_difference(history, yhat, interval=1):\n",
        "\treturn yhat + history[-interval]\n",
        "\n",
        "series = read_csv('dataset.csv', header=None, index_col=0, parse_dates=True, squeeze=True)\n",
        "months_in_year = 12\n",
        "model_fit = ARIMAResults.load('model.pkl')\n",
        "bias = numpy.load('model_bias.npy')\n",
        "yhat = float(model_fit.forecast()[0])\n",
        "yhat = bias + inverse_difference(series.values, yhat, months_in_year)\n",
        "print('Predicted: %.3f' % yhat)"
      ],
      "execution_count": 24,
      "outputs": [
        {
          "output_type": "stream",
          "text": [
            "Predicted: 6794.773\n"
          ],
          "name": "stdout"
        }
      ]
    },
    {
      "cell_type": "markdown",
      "metadata": {
        "id": "IWeivQ-O68ZB"
      },
      "source": [
        "**6.3 Validate Model**\n",
        "\n",
        "We can load this validation.csv file now and use it see how well our model really is on “unseen” data."
      ]
    },
    {
      "cell_type": "code",
      "metadata": {
        "id": "_N0AOQb97Xv5",
        "outputId": "e2442217-7b42-458a-8a57-a025c985588b",
        "colab": {
          "base_uri": "https://localhost:8080/",
          "height": 486
        }
      },
      "source": [
        "from pandas import read_csv\n",
        "from matplotlib import pyplot\n",
        "from statsmodels.tsa.arima_model import ARIMA\n",
        "from statsmodels.tsa.arima_model import ARIMAResults\n",
        "from sklearn.metrics import mean_squared_error\n",
        "from math import sqrt\n",
        "import numpy\n",
        "\n",
        "# create a differenced series\n",
        "def difference(dataset, interval=1):\n",
        "\tdiff = list()\n",
        "\tfor i in range(interval, len(dataset)):\n",
        "\t\tvalue = dataset[i] - dataset[i - interval]\n",
        "\t\tdiff.append(value)\n",
        "\treturn diff\n",
        "\n",
        "# invert differenced value\n",
        "def inverse_difference(history, yhat, interval=1):\n",
        "\treturn yhat + history[-interval]\n",
        "\n",
        "# load and prepare datasets\n",
        "series = read_csv('dataset.csv', header=None, index_col=0, parse_dates=True, squeeze=True)\n",
        "X = series.values.astype('float32')\n",
        "history = [x for x in X]\n",
        "months_in_year = 12\n",
        "validation = read_csv('validation.csv', header=None, index_col=0, parse_dates=True, squeeze=True)\n",
        "y = validation.values.astype('float32')\n",
        "# load model\n",
        "model_fit = ARIMAResults.load('model.pkl')\n",
        "bias = numpy.load('model_bias.npy')\n",
        "# make first prediction\n",
        "predictions = list()\n",
        "yhat = float(model_fit.forecast()[0])\n",
        "yhat = bias + inverse_difference(history, yhat, months_in_year)\n",
        "predictions.append(yhat)\n",
        "history.append(y[0])\n",
        "print('>Predicted=%.3f, Expected=%3.f' % (yhat, y[0]))\n",
        "# rolling forecasts\n",
        "for i in range(1, len(y)):\n",
        "\t# difference data\n",
        "\tmonths_in_year = 12\n",
        "\tdiff = difference(history, months_in_year)\n",
        "\t# predict\n",
        "\tmodel = ARIMA(diff, order=(0,0,1))\n",
        "\tmodel_fit = model.fit(trend='nc', disp=0)\n",
        "\tyhat = model_fit.forecast()[0]\n",
        "\tyhat = bias + inverse_difference(history, yhat, months_in_year)\n",
        "\tpredictions.append(yhat)\n",
        "\t# observation\n",
        "\tobs = y[i]\n",
        "\thistory.append(obs)\n",
        "\tprint('>Predicted=%.3f, Expected=%3.f' % (yhat, obs))\n",
        "# report performance\n",
        "mse = mean_squared_error(y, predictions)\n",
        "rmse = sqrt(mse)\n",
        "print('RMSE: %.3f' % rmse)\n",
        "pyplot.plot(y)\n",
        "pyplot.plot(predictions, color='red')\n",
        "pyplot.show()"
      ],
      "execution_count": 25,
      "outputs": [
        {
          "output_type": "stream",
          "text": [
            ">Predicted=6794.773, Expected=6981\n",
            ">Predicted=10101.763, Expected=9851\n",
            ">Predicted=13219.067, Expected=12670\n",
            ">Predicted=3996.535, Expected=4348\n",
            ">Predicted=3465.934, Expected=3564\n",
            ">Predicted=4522.683, Expected=4577\n",
            ">Predicted=4901.336, Expected=4788\n",
            ">Predicted=5190.094, Expected=4618\n",
            ">Predicted=4930.190, Expected=5312\n",
            ">Predicted=4944.785, Expected=4298\n",
            ">Predicted=1699.409, Expected=1413\n",
            ">Predicted=6085.324, Expected=5877\n",
            "RMSE: 361.110\n"
          ],
          "name": "stdout"
        },
        {
          "output_type": "display_data",
          "data": {
            "image/png": "[encoded data removed]",
            "text/plain": [
              "<Figure size 432x288 with 1 Axes>"
            ]
          },
          "metadata": {
            "tags": [],
            "needs_background": "light"
          }
        }
      ]
    }
  ]
}