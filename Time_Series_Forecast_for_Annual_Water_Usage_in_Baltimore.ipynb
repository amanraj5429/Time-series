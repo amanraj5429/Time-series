{
  "nbformat": 4,
  "nbformat_minor": 0,
  "metadata": {
    "colab": {
      "name": "Time Series Forecast for Annual Water Usage in Baltimore.ipynb",
      "provenance": []
    },
    "kernelspec": {
      "name": "python3",
      "display_name": "Python 3"
    }
  },
  "cells": [
    {
      "cell_type": "markdown",
      "metadata": {
        "id": "LcuJ7oo29Orl"
      },
      "source": [
        "In this notebook, we will work through a time series forecasting project from end-to-end, from downloading the dataset and defining the problem to training a final model and making predictions.\n",
        "\n",
        "The steps of this project that we will work through are as follows.\n",
        "\n",
        "**1. Environment**\n",
        "\n",
        "**2. Problem Description**\n",
        "\n",
        "**3. Test Harness**\n",
        "\n",
        "**4. Persistence**\n",
        "\n",
        "**5. Data Analysis**\n",
        "\n",
        "**6. Model Validation**\n",
        "\n"
      ]
    },
    {
      "cell_type": "markdown",
      "metadata": {
        "id": "6fFqN2I3dF4o"
      },
      "source": [
        "**1. Environment**\n",
        "\n",
        "This tutorial assumes an installed and working SciPy environment and dependencies, including:\n",
        "\n",
        "SciPy,\n",
        "NumPy,\n",
        "Matplotlib,\n",
        "Pandas,\n",
        "scikit-learn,\n",
        "statsmodels.\n",
        "\n",
        "This script will help you check your installed versions of these libraries."
      ]
    },
    {
      "cell_type": "code",
      "metadata": {
        "id": "TmdrxYN68jcW",
        "outputId": "64b94908-9fde-4766-a9f6-b18be56eb176",
        "colab": {
          "base_uri": "https://localhost:8080/"
        }
      },
      "source": [
        "# scipy\n",
        "import scipy\n",
        "print('scipy: %s' % scipy.__version__)\n",
        "# numpy\n",
        "import numpy\n",
        "print('numpy: %s' % numpy.__version__)\n",
        "# matplotlib\n",
        "import matplotlib\n",
        "print('matplotlib: %s' % matplotlib.__version__)\n",
        "# pandas\n",
        "import pandas\n",
        "print('pandas: %s' % pandas.__version__)\n",
        "# scikit-learn\n",
        "import sklearn\n",
        "print('sklearn: %s' % sklearn.__version__)\n",
        "# statsmodels\n",
        "import statsmodels\n",
        "print('statsmodels: %s' % statsmodels.__version__)"
      ],
      "execution_count": 13,
      "outputs": [
        {
          "output_type": "stream",
          "text": [
            "scipy: 1.4.1\n",
            "numpy: 1.18.5\n",
            "matplotlib: 3.2.2\n",
            "pandas: 1.1.2\n",
            "sklearn: 0.22.2.post1\n",
            "statsmodels: 0.10.2\n"
          ],
          "name": "stdout"
        }
      ]
    },
    {
      "cell_type": "markdown",
      "metadata": {
        "id": "Wzpr0f-mj4kh"
      },
      "source": [
        "**2. Problem description**\n",
        "\n",
        "The dataset provides the annual water usage in Baltimore from 1885 to 1963, or 79 years of data. The values are in the units of liters per capita per day, and there are 79 observations. \n",
        "\n",
        "link of dataset will be given in readme file."
      ]
    },
    {
      "cell_type": "markdown",
      "metadata": {
        "id": "FGrqsZAtmeo-"
      },
      "source": [
        "**3.  Test Harness**\n",
        "\n",
        "We must develop a test harness to investigate the data and evaluate candidate models.\n",
        "\n",
        "This involves two steps:\n",
        "\n",
        "**1. Defining a Validation Dataset**\n",
        "\n",
        "**2. Developing a Method for Model Evaluation**"
      ]
    },
    {
      "cell_type": "markdown",
      "metadata": {
        "id": "7rTgPwHEp4cK"
      },
      "source": [
        "**load the csv file**"
      ]
    },
    {
      "cell_type": "code",
      "metadata": {
        "id": "Rb0RDFRWp-Fq",
        "outputId": "164a2216-859f-435a-af27-071d33104f40",
        "colab": {
          "resources": {
            "http://localhost:8080/nbextensions/google.colab/files.js": {
              "data": "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",
              "ok": true,
              "headers": [
                [
                  "content-type",
                  "application/javascript"
                ]
              ],
              "status": 200,
              "status_text": ""
            }
          },
          "base_uri": "https://localhost:8080/",
          "height": 72
        }
      },
      "source": [
        "from google.colab import files \n",
        "  \n",
        "  \n",
        "uploaded = files.upload()"
      ],
      "execution_count": 2,
      "outputs": [
        {
          "output_type": "display_data",
          "data": {
            "text/html": [
              "\n",
              "     <input type=\"file\" id=\"files-efb370ec-1f7c-42e3-b551-53201720bb9e\" name=\"files[]\" multiple disabled\n",
              "        style=\"border:none\" />\n",
              "     <output id=\"result-efb370ec-1f7c-42e3-b551-53201720bb9e\">\n",
              "      Upload widget is only available when the cell has been executed in the\n",
              "      current browser session. Please rerun this cell to enable.\n",
              "      </output>\n",
              "      <script src=\"/nbextensions/google.colab/files.js\"></script> "
            ],
            "text/plain": [
              "<IPython.core.display.HTML object>"
            ]
          },
          "metadata": {
            "tags": []
          }
        },
        {
          "output_type": "stream",
          "text": [
            "Saving water.csv to water.csv\n"
          ],
          "name": "stdout"
        }
      ]
    },
    {
      "cell_type": "markdown",
      "metadata": {
        "id": "g2lqzFN9pkoI"
      },
      "source": [
        "**1. Defining a Validation Dataset**\n",
        "\n",
        "The dataset is not current. This means that we cannot easily collect updated data to validate the model. Therefore, we will pretend that it is 1953 and withhold the last 10 years of data from analysis and model selection.\n",
        "\n",
        "This final decade of data will be used to validate the final model.\n",
        "\n",
        "The code below will load the dataset as a Pandas Series and split into two, one for model development (dataset.csv) and the other for validation (validation.csv)."
      ]
    },
    {
      "cell_type": "code",
      "metadata": {
        "id": "3udZABgvnTHx",
        "outputId": "36dd0db5-fa27-4b7d-ff03-325bd844e6f5",
        "colab": {
          "base_uri": "https://localhost:8080/"
        }
      },
      "source": [
        "from pandas import read_csv\n",
        "series = read_csv('water.csv', header=0, index_col=0)\n",
        "split_point = len(series) - 10\n",
        "dataset, validation = series[0:split_point], series[split_point:]\n",
        "print('Dataset %d, Validation %d' % (len(dataset), len(validation)))\n",
        "dataset.to_csv('dataset.csv', index=False, header=False)\n",
        "validation.to_csv('validation.csv', index=False, header=False)"
      ],
      "execution_count": 14,
      "outputs": [
        {
          "output_type": "stream",
          "text": [
            "Dataset 69, Validation 10\n"
          ],
          "name": "stdout"
        }
      ]
    },
    {
      "cell_type": "markdown",
      "metadata": {
        "id": "mn6tg6pXrNTS"
      },
      "source": [
        "**2. model evaluation**\n",
        "\n",
        "Model evaluation will only be performed on the data in dataset.csv prepared in the previous section. Model evaluation involves two elements:\n",
        "\n",
        "**1. Performance Measure**\n",
        "\n",
        "**2. Test Strategy**\n",
        "\n",
        "**1. Performance Measure**\n",
        "\n",
        "We will evaluate the performance of predictions using the root mean squared error (RMSE). This will give more weight to predictions that are grossly wrong and will have the same units as the original data.\n",
        "\n",
        "We can calculate the RMSE using the helper function from the scikit-learn library mean_squared_error() that calculates the mean squared error between a list of expected values (the test set) and the list of predictions. We can then take the square root of this value to give us a RMSE score."
      ]
    },
    {
      "cell_type": "code",
      "metadata": {
        "id": "FiM1dWYetNwz"
      },
      "source": [
        "from sklearn.metrics import mean_squared_error\n",
        "from math import sqrt\n",
        "...\n",
        "test = ...\n",
        "predictions = ...\n",
        "mse = mean_squared_error(test, predictions)\n",
        "rmse = sqrt(mse)\n",
        "print('RMSE: %.3f' % rmse)"
      ],
      "execution_count": null,
      "outputs": []
    },
    {
      "cell_type": "markdown",
      "metadata": {
        "id": "EWfDT8H3HGb4"
      },
      "source": [
        "**2. Test Strategy**\n",
        "\n",
        "Firstly, we can split the dataset into train and test sets directly. We’re careful to always convert a loaded dataset to float32 in case the loaded data still has some String or Integer data types."
      ]
    },
    {
      "cell_type": "code",
      "metadata": {
        "id": "Cex5BWcqH_W9"
      },
      "source": [
        "# prepare data\n",
        "X = series.values\n",
        "X = X.astype('float32')\n",
        "train_size = int(len(X) * 0.50)\n",
        "train, test = X[0:train_size], X[train_size:]"
      ],
      "execution_count": null,
      "outputs": []
    },
    {
      "cell_type": "markdown",
      "metadata": {
        "id": "RemKPndHIAXR"
      },
      "source": [
        "The prediction made by the model is called yhat for convention, as the outcome or observation is referred to as y and yhat (a ‘y‘ with a mark above) is the mathematical notation for the prediction of the y variable.\n",
        "\n",
        "The prediction and observation are printed each observation for a sanity check prediction in case there are issues with the model."
      ]
    },
    {
      "cell_type": "code",
      "metadata": {
        "id": "N7tnx-zpIPkk"
      },
      "source": [
        "# walk-forward validation\n",
        "history = [x for x in train]\n",
        "predictions = list()\n",
        "for i in range(len(test)):\n",
        "\t# predict\n",
        "\tyhat = ...\n",
        "\tpredictions.append(yhat)\n",
        "\t# observation\n",
        "\tobs = test[i]\n",
        "\thistory.append(obs)\n",
        "\tprint('>Predicted=%.3f, Expected=%3.f' % (yhat, obs))"
      ],
      "execution_count": null,
      "outputs": []
    },
    {
      "cell_type": "markdown",
      "metadata": {
        "id": "X1vkIa9kjVqN"
      },
      "source": [
        "**4. Persistence**\n",
        "\n",
        "This will provide both a template for evaluating models using the proposed test harness and a performance measure by which all more elaborate predictive models can be compared.\n",
        "\n",
        "The baseline prediction for time series forecasting is called the naive forecast, or persistence.\n",
        "\n",
        "This is where the observation from the previous time step is used as the prediction for the observation at the next time step. We can plug this directly into the test harness defined in the previous section. The complete code listing is provided below."
      ]
    },
    {
      "cell_type": "code",
      "metadata": {
        "id": "VNkNrgjElAlQ",
        "outputId": "0b7205f3-75b4-4bf7-81c0-0a93ebd9b3d9",
        "colab": {
          "base_uri": "https://localhost:8080/"
        }
      },
      "source": [
        "from pandas import read_csv\n",
        "from sklearn.metrics import mean_squared_error\n",
        "from math import sqrt\n",
        "# load data\n",
        "series = read_csv('dataset.csv')\n",
        "# prepare data\n",
        "X = series.values\n",
        "X = X.astype('float32')\n",
        "train_size = int(len(X) * 0.50)\n",
        "train, test = X[0:train_size], X[train_size:]\n",
        "# walk-forward validation\n",
        "history = [x for x in train]\n",
        "predictions = list()\n",
        "for i in range(len(test)):\n",
        "\t# predict\n",
        "\tyhat = history[-1]\n",
        "\tpredictions.append(yhat)\n",
        "\t# observation\n",
        "\tobs = test[i]\n",
        "\thistory.append(obs)\n",
        "\tprint('>Predicted=%.3f, Expected=%3.f' % (yhat, obs))\n",
        "# report performance\n",
        "mse = mean_squared_error(test, predictions)\n",
        "rmse = sqrt(mse)\n",
        "print('RMSE: %.3f' % rmse)"
      ],
      "execution_count": 15,
      "outputs": [
        {
          "output_type": "stream",
          "text": [
            ">Predicted=503.000, Expected=503\n",
            ">Predicted=503.000, Expected=515\n",
            ">Predicted=515.000, Expected=522\n",
            ">Predicted=522.000, Expected=492\n",
            ">Predicted=492.000, Expected=503\n",
            ">Predicted=503.000, Expected=503\n",
            ">Predicted=503.000, Expected=450\n",
            ">Predicted=450.000, Expected=432\n",
            ">Predicted=432.000, Expected=432\n",
            ">Predicted=432.000, Expected=458\n",
            ">Predicted=458.000, Expected=462\n",
            ">Predicted=462.000, Expected=503\n",
            ">Predicted=503.000, Expected=488\n",
            ">Predicted=488.000, Expected=466\n",
            ">Predicted=466.000, Expected=492\n",
            ">Predicted=492.000, Expected=503\n",
            ">Predicted=503.000, Expected=515\n",
            ">Predicted=515.000, Expected=500\n",
            ">Predicted=500.000, Expected=522\n",
            ">Predicted=522.000, Expected=575\n",
            ">Predicted=575.000, Expected=583\n",
            ">Predicted=583.000, Expected=587\n",
            ">Predicted=587.000, Expected=628\n",
            ">Predicted=628.000, Expected=640\n",
            ">Predicted=640.000, Expected=609\n",
            ">Predicted=609.000, Expected=606\n",
            ">Predicted=606.000, Expected=632\n",
            ">Predicted=632.000, Expected=617\n",
            ">Predicted=617.000, Expected=613\n",
            ">Predicted=613.000, Expected=598\n",
            ">Predicted=598.000, Expected=575\n",
            ">Predicted=575.000, Expected=564\n",
            ">Predicted=564.000, Expected=549\n",
            ">Predicted=549.000, Expected=538\n",
            "RMSE: 22.295\n"
          ],
          "name": "stdout"
        }
      ]
    },
    {
      "cell_type": "markdown",
      "metadata": {
        "id": "3cns8ppKlxLm"
      },
      "source": [
        "**5. Data Analysis**\n",
        "\n",
        "We can use summary statistics and plots of the data to quickly learn more about the structure of the prediction problem.\n",
        "\n",
        "In this section, we will look at the data from four perspectives:\n",
        "\n",
        "**1. Summary Statistics**\n",
        "\n",
        "**2. Line Plot**\n",
        "\n",
        "**3. Density Plots**"
      ]
    },
    {
      "cell_type": "markdown",
      "metadata": {
        "id": "JLH1_wg1s6ja"
      },
      "source": [
        "**5.1. Summary Statistics**\n",
        "\n",
        "Summary statistics provide a quick look at the limits of observed values. It can help to get a quick idea of what we are working with.\n",
        "\n",
        "The example below calculates and prints summary statistics for the time series."
      ]
    },
    {
      "cell_type": "code",
      "metadata": {
        "id": "mvUygUNhtW6Z",
        "outputId": "bc6ca69f-6e57-4008-9a45-5fdca8285961",
        "colab": {
          "base_uri": "https://localhost:8080/"
        }
      },
      "source": [
        "from pandas import read_csv\n",
        "series = read_csv('dataset.csv')\n",
        "print(series.describe())"
      ],
      "execution_count": 16,
      "outputs": [
        {
          "output_type": "stream",
          "text": [
            "              356\n",
            "count   68.000000\n",
            "mean   502.602941\n",
            "std     72.296888\n",
            "min    344.000000\n",
            "25%    458.000000\n",
            "50%    496.000000\n",
            "75%    540.750000\n",
            "max    662.000000\n"
          ],
          "name": "stdout"
        }
      ]
    },
    {
      "cell_type": "markdown",
      "metadata": {
        "id": "SPrBA8dHtbCL"
      },
      "source": [
        "**5.2. Line Plot**\n",
        "\n",
        "A line plot of a time series dataset can provide a lot of insight into the problem. The example below creates and shows a line plot of the dataset."
      ]
    },
    {
      "cell_type": "code",
      "metadata": {
        "id": "ItrnVkIzuOyU",
        "outputId": "61a84ef4-eb4a-41b8-9160-5515e678a9fb",
        "colab": {
          "base_uri": "https://localhost:8080/",
          "height": 265
        }
      },
      "source": [
        "from pandas import read_csv\n",
        "from matplotlib import pyplot\n",
        "series = read_csv('dataset.csv')\n",
        "series.plot()\n",
        "pyplot.show()"
      ],
      "execution_count": 17,
      "outputs": [
        {
          "output_type": "display_data",
          "data": {
            "image/png": "[encoded data removed]",
            "text/plain": [
              "<Figure size 432x288 with 1 Axes>"
            ]
          },
          "metadata": {
            "tags": [],
            "needs_background": "light"
          }
        }
      ]
    },
    {
      "cell_type": "markdown",
      "metadata": {
        "id": "iAPhMdUMua8W"
      },
      "source": [
        "**5.3. Density Plot**\n",
        "\n",
        "Reviewing plots of the density of observations can provide further insight into the structure of the data.\n",
        "\n",
        "The example below creates a histogram and density plot of the observations without any temporal structure."
      ]
    },
    {
      "cell_type": "code",
      "metadata": {
        "id": "aKRdliGZunaV",
        "outputId": "0333cda7-0f5f-4ccd-e97e-14b85d0d1d0b",
        "colab": {
          "base_uri": "https://localhost:8080/",
          "height": 528
        }
      },
      "source": [
        "from pandas import read_csv\n",
        "from matplotlib import pyplot\n",
        "series = read_csv('dataset.csv')\n",
        "pyplot.figure(1)\n",
        "pyplot.subplot(211)\n",
        "series.hist()\n",
        "pyplot.subplot(212)\n",
        "series.plot(kind='kde')\n",
        "pyplot.show()"
      ],
      "execution_count": 18,
      "outputs": [
        {
          "output_type": "display_data",
          "data": {
            "image/png": "[encoded data removed]",
            "text/plain": [
              "<Figure size 432x288 with 1 Axes>"
            ]
          },
          "metadata": {
            "tags": [],
            "needs_background": "light"
          }
        },
        {
          "output_type": "display_data",
          "data": {
            "image/png": "[encoded data removed]",
            "text/plain": [
              "<Figure size 432x288 with 1 Axes>"
            ]
          },
          "metadata": {
            "tags": [],
            "needs_background": "light"
          }
        },
        {
          "output_type": "display_data",
          "data": {
            "image/png": "[encoded data removed]",
            "text/plain": [
              "<Figure size 432x288 with 1 Axes>"
            ]
          },
          "metadata": {
            "tags": [],
            "needs_background": "light"
          }
        }
      ]
    },
    {
      "cell_type": "markdown",
      "metadata": {
        "id": "9w7frj3O5-bq"
      },
      "source": [
        "**7. Model Validation**\n",
        "\n",
        "Validation is an optional part of the process, but one that provides a ‘last check’ to ensure we have not fooled or misled ourselves.\n",
        "\n",
        "This section includes the following steps:\n",
        "\n",
        "**Finalize Model**: Train and save the final model.\n",
        "\n",
        "**Make Prediction**: Load the finalized model and make a prediction.\n",
        "\n",
        "**Validate Model**: Load and validate the final model.\n"
      ]
    },
    {
      "cell_type": "markdown",
      "metadata": {
        "id": "WOlVptqg60-F"
      },
      "source": [
        "**7.1 Finalize Model**\n",
        "\n",
        "The example below saves the fit model to file in the correct state so that it can be loaded successfully later."
      ]
    },
    {
      "cell_type": "code",
      "metadata": {
        "id": "ipwKeD187Gaw",
        "outputId": "7e99c5eb-eb6a-455a-89e5-0de1abfa390c",
        "colab": {
          "base_uri": "https://localhost:8080/"
        }
      },
      "source": [
        "from pandas import read_csv\n",
        "from statsmodels.tsa.arima_model import ARIMA\n",
        "from scipy.stats import boxcox\n",
        "import numpy\n",
        "\n",
        "# monkey patch around bug in ARIMA class\n",
        "def __getnewargs__(self):\n",
        "\treturn ((self.endog),(self.k_lags, self.k_diff, self.k_ma))\n",
        "\n",
        "ARIMA.__getnewargs__ = __getnewargs__\n",
        "\n",
        "# load data\n",
        "series = read_csv('dataset.csv')\n",
        "# prepare data\n",
        "X = series.values\n",
        "X = X.astype('float32')\n",
        "# fit model\n",
        "model = ARIMA(X, order=(2,1,0))\n",
        "model_fit = model.fit(trend='nc', disp=0)\n",
        "# bias constant, could be calculated from in-sample mean residual\n",
        "bias = 1.081624\n",
        "# save model\n",
        "model_fit.save('model.pkl')\n",
        "numpy.save('model_bias.npy', [bias])"
      ],
      "execution_count": 21,
      "outputs": [
        {
          "output_type": "stream",
          "text": [
            "/usr/local/lib/python3.6/dist-packages/statsmodels/tools/_testing.py:19: FutureWarning: pandas.util.testing is deprecated. Use the functions in the public API at pandas.testing instead.\n",
            "  import pandas.util.testing as tm\n"
          ],
          "name": "stderr"
        }
      ]
    },
    {
      "cell_type": "markdown",
      "metadata": {
        "id": "bcJjP56N7Pv7"
      },
      "source": [
        "**7.2 Make Prediction**\n",
        "\n",
        "This is relatively straightforward and involves restoring the saved model and the bias and calling the forecast() function.\n",
        "\n",
        "The example below loads the model, makes a prediction for the next time step, and prints the prediction."
      ]
    },
    {
      "cell_type": "code",
      "metadata": {
        "id": "HeyMVPQ27fx2",
        "outputId": "d44dc20c-8fb8-4368-9bc6-b64dc3439e0b",
        "colab": {
          "base_uri": "https://localhost:8080/"
        }
      },
      "source": [
        "from statsmodels.tsa.arima_model import ARIMAResults\n",
        "import numpy\n",
        "model_fit = ARIMAResults.load('model.pkl')\n",
        "bias = numpy.load('model_bias.npy')\n",
        "yhat = bias + float(model_fit.forecast()[0])\n",
        "print('Predicted: %.3f' % yhat)"
      ],
      "execution_count": 22,
      "outputs": [
        {
          "output_type": "stream",
          "text": [
            "Predicted: 540.055\n"
          ],
          "name": "stdout"
        }
      ]
    },
    {
      "cell_type": "markdown",
      "metadata": {
        "id": "tfKTHRAJ7orq"
      },
      "source": [
        "**7.3 Validate Model**\n",
        "\n",
        "As with model evaluation in the previous sections, we will make predictions in a rolling-forecast manner. This means that we will step over lead times in the validation dataset and take the observations as an update to the history."
      ]
    },
    {
      "cell_type": "code",
      "metadata": {
        "id": "6YBwXMmD71YK",
        "outputId": "968ebd47-5efc-4331-8531-91307cd2655f",
        "colab": {
          "base_uri": "https://localhost:8080/",
          "height": 435
        }
      },
      "source": [
        "from pandas import read_csv\n",
        "from matplotlib import pyplot\n",
        "from statsmodels.tsa.arima_model import ARIMA\n",
        "from statsmodels.tsa.arima_model import ARIMAResults\n",
        "from sklearn.metrics import mean_squared_error\n",
        "from math import sqrt\n",
        "import numpy\n",
        "# load and prepare datasets\n",
        "dataset = read_csv('dataset.csv')\n",
        "X = dataset.values.astype('float32')\n",
        "history = [x for x in X]\n",
        "validation = read_csv('validation.csv')\n",
        "y = validation.values.astype('float32')\n",
        "# load model\n",
        "model_fit = ARIMAResults.load('model.pkl')\n",
        "bias = numpy.load('model_bias.npy')\n",
        "# make first prediction\n",
        "predictions = list()\n",
        "yhat = bias + float(model_fit.forecast()[0])\n",
        "predictions.append(yhat)\n",
        "history.append(y[0])\n",
        "print('>Predicted=%.3f, Expected=%3.f' % (yhat, y[0]))\n",
        "# rolling forecasts\n",
        "for i in range(1, len(y)):\n",
        "\t# predict\n",
        "\tmodel = ARIMA(history, order=(2,1,0))\n",
        "\tmodel_fit = model.fit(trend='nc', disp=0)\n",
        "\tyhat = bias + float(model_fit.forecast()[0])\n",
        "\tpredictions.append(yhat)\n",
        "\t# observation\n",
        "\tobs = y[i]\n",
        "\thistory.append(obs)\n",
        "\tprint('>Predicted=%.3f, Expected=%3.f' % (yhat, obs))\n",
        "# report performance\n",
        "mse = mean_squared_error(y, predictions)\n",
        "rmse = sqrt(mse)\n",
        "print('RMSE: %.3f' % rmse)\n",
        "pyplot.plot(y)\n",
        "pyplot.plot(predictions, color='red')\n",
        "pyplot.show()"
      ],
      "execution_count": 23,
      "outputs": [
        {
          "output_type": "stream",
          "text": [
            ">Predicted=540.055, Expected=575\n",
            ">Predicted=578.739, Expected=579\n",
            ">Predicted=576.373, Expected=587\n",
            ">Predicted=588.017, Expected=602\n",
            ">Predicted=602.937, Expected=594\n",
            ">Predicted=593.251, Expected=587\n",
            ">Predicted=588.591, Expected=587\n",
            ">Predicted=588.786, Expected=625\n",
            ">Predicted=627.697, Expected=613\n",
            "RMSE: 18.793\n"
          ],
          "name": "stdout"
        },
        {
          "output_type": "display_data",
          "data": {
            "image/png": "[encoded data removed]",
            "text/plain": [
              "<Figure size 432x288 with 1 Axes>"
            ]
          },
          "metadata": {
            "tags": [],
            "needs_background": "light"
          }
        }
      ]
    }
  ]
}